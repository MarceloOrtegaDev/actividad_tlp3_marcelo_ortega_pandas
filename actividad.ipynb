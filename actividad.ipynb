{
 "cells": [
  {
   "cell_type": "markdown",
   "id": "498731c6",
   "metadata": {},
   "source": [
    "# Actividad - Trabajando con Series de Pandas.\n",
    "## Criterios de evaluación.\n",
    "\n",
    "* Se deben utilizar nombres de variables descriptivos y claros (Utilizar la nomeclatura correspondiente para los nombres de variables).\n",
    "* Comentarios claros y concisos que expliquen el propósito de cada sección del código.\n",
    "* Utilizar mensajes de commit **descriptivos**. (Puedes utilizar la extension CONVENTIONAL COMMIT de VS-CODE). \n",
    "* Entrega en tiempo y forma.\n",
    "* Todo el código desarrollado debe ser subido a un repositorio en GitHub (el nombre del repositorio de seguir la siguiente estructura: actividad_tlp3_nombre_apellido).\n",
    "* Para resolver las actividades se debe insertar casillas de codigo entre cada actividad del cuaderno de Jupyter\n",
    "\n",
    "### ¡Importante!\n",
    "**El incumplimiento de los criterios de evaluación restará puntos en la nota final del práctico!**"
   ]
  },
  {
   "cell_type": "markdown",
   "id": "b361a7b6",
   "metadata": {},
   "source": [
    "### **Actividad 1:** \n",
    "\n",
    "Crear Series desde diferentes estructuras.\n",
    "* Crea una Series con los números del 1 al 5\n",
    "* Crea una Series a partir de un diccionario con nombres de países como claves y sus capitales como valores."
   ]
  },
  {
   "cell_type": "code",
   "execution_count": 729,
   "id": "26009294",
   "metadata": {},
   "outputs": [
    {
     "data": {
      "text/plain": [
       "0    1\n",
       "1    2\n",
       "2    3\n",
       "3    4\n",
       "4    5\n",
       "dtype: int64"
      ]
     },
     "execution_count": 729,
     "metadata": {},
     "output_type": "execute_result"
    }
   ],
   "source": [
    "# Se importaron las librerias necesarias\n",
    "from pandas import Series\n",
    "import random\n",
    "\n",
    "# Se creo una serie de 5 elementos\n",
    "primer_serie = Series([1,2,3,4,5])\n",
    "\n",
    "# Se imprimio la serie\n",
    "primer_serie"
   ]
  },
  {
   "cell_type": "code",
   "execution_count": 730,
   "id": "471adaee",
   "metadata": {},
   "outputs": [
    {
     "name": "stdout",
     "output_type": "stream",
     "text": [
      "Argentina    Buenos Aires\n",
      "Colombia           Bogotá\n",
      "Chile            Santiago\n",
      "Perú                 Lima\n",
      "Venezuela         Caracas\n",
      "Ecuador             Quito\n",
      "Paraguay         Asunción\n",
      "dtype: object\n"
     ]
    }
   ],
   "source": [
    "# Cree un diccionario de paises y sus capitales\n",
    "diccionario = {\n",
    "    'Argentina': 'Buenos Aires',\n",
    "    'Colombia': 'Bogotá',\n",
    "    'Chile': 'Santiago',\n",
    "    'Perú': 'Lima',\n",
    "    'Venezuela': 'Caracas',\n",
    "    'Ecuador': 'Quito',\n",
    "    'Paraguay': 'Asunción',\n",
    "    }\n",
    "# Convertí el diccionario en una serie con los paises como indices y las capitales como valores\n",
    "serie_diccionario = Series(diccionario)\n",
    "#Lo imprimí\n",
    "print(serie_diccionario)"
   ]
  },
  {
   "cell_type": "markdown",
   "id": "0c239195",
   "metadata": {},
   "source": [
    "### **Actividad 2:** \n",
    "Acceso y selección de elementos.\n",
    "* Usa una Series con tareas (que haceres cotidianos) de una semana\n",
    "* Accede a diferentes elementos a elección.\n",
    "* Cambia los valores de los dias pares.\n"
   ]
  },
  {
   "cell_type": "code",
   "execution_count": 731,
   "id": "3611d25a",
   "metadata": {},
   "outputs": [
    {
     "name": "stdout",
     "output_type": "stream",
     "text": [
      "Cocinar\n"
     ]
    }
   ],
   "source": [
    "# Cree una serie con mis tareas de la semana\n",
    "que_haceres = {\n",
    "    \"Sabado\": \"Descansar\",\n",
    "    \"Domingo\": \"Cocinar\",\n",
    "    \"Lunes\": \"Estudiar\",\n",
    "    \"Martes\": \"Limpiar\",\n",
    "    \"Miércoles\": \"Hacer la compra\",\n",
    "    \"Jueves\": \"Hacer ejercicio\",\n",
    "    \"Viernes\": \"Salir\",\n",
    "}\n",
    "\n",
    "# Lo convertí en una serie\n",
    "series_que_haceres = Series(que_haceres)\n",
    "\n",
    "# Filtré por lo que hice el día domingo\n",
    "print(series_que_haceres[\"Domingo\"])\n",
    "\n",
    "    "
   ]
  },
  {
   "cell_type": "code",
   "execution_count": 732,
   "id": "fc33acf3",
   "metadata": {},
   "outputs": [
    {
     "name": "stdout",
     "output_type": "stream",
     "text": [
      "Sabado               Chusmear\n",
      "Domingo               Cocinar\n",
      "Lunes         Limpiar el baño\n",
      "Martes                Limpiar\n",
      "Miércoles    Saltar la cuerda\n",
      "Jueves        Hacer ejercicio\n",
      "Viernes              Chusmear\n",
      "dtype: object\n"
     ]
    },
    {
     "name": "stderr",
     "output_type": "stream",
     "text": [
      "C:\\Users\\marcelo\\AppData\\Local\\Temp\\ipykernel_30364\\1772292982.py:6: FutureWarning: Series.__setitem__ treating keys as positions is deprecated. In a future version, integer keys will always be treated as labels (consistent with DataFrame behavior). To set a value by position, use `ser.iloc[pos] = value`\n",
      "  series_que_haceres[i] = random.choice([\"Saltar la cuerda\", \"Comprar manzanas\", \"Crear un algoritmo\", \"Chusmear\", \"Limpiar el baño\", \"Hacer chipa\"])\n"
     ]
    }
   ],
   "source": [
    "# Iteré sobre la serie por su longitud y reemplacé los valores de los días pares por una actividad aleatoria\n",
    "for i in range(len(series_que_haceres)):\n",
    "    # Si el índice es par, reemplazo el valor por una actividad aleatoria\n",
    "    if i % 2==0:\n",
    "        # Reemplazo el valor por una actividad aleatoria\n",
    "        series_que_haceres[i] = random.choice([\"Saltar la cuerda\", \"Comprar manzanas\", \"Crear un algoritmo\", \"Chusmear\", \"Limpiar el baño\", \"Hacer chipa\"])\n",
    "\n",
    "print(series_que_haceres)    \n",
    "       \n"
   ]
  },
  {
   "cell_type": "markdown",
   "id": "70a24b97",
   "metadata": {},
   "source": [
    "### **Actividad 3:**\n",
    "Operaciones aritméticas. \n",
    "* Realiza las operaciones basicas con 2 series cuales quieran.\n",
    "* Eleva los valores de la primer serie a 3 potencias difetentes."
   ]
  },
  {
   "cell_type": "code",
   "execution_count": 733,
   "id": "a9c8ebc7",
   "metadata": {},
   "outputs": [
    {
     "name": "stdout",
     "output_type": "stream",
     "text": [
      "Suma:\n",
      "0    7\n",
      "1    7\n",
      "2    7\n",
      "3    6\n",
      "dtype: int64\n",
      "\\ Resta: \n",
      "0   -1\n",
      "1   -3\n",
      "2   -1\n",
      "3    2\n",
      "dtype: int64\n",
      " Multiplicación: \n",
      "0    12\n",
      "1    10\n",
      "2    12\n",
      "3     8\n",
      "dtype: int64\n",
      " División:\n",
      "0    0.75\n",
      "1    0.40\n",
      "2    0.75\n",
      "3    2.00\n",
      "dtype: float64\n"
     ]
    },
    {
     "name": "stderr",
     "output_type": "stream",
     "text": [
      "<>:11: SyntaxWarning: invalid escape sequence '\\ '\n",
      "<>:11: SyntaxWarning: invalid escape sequence '\\ '\n",
      "C:\\Users\\marcelo\\AppData\\Local\\Temp\\ipykernel_30364\\2389030228.py:11: SyntaxWarning: invalid escape sequence '\\ '\n",
      "  print(f\"Suma:\\n{suma}\\n\\ Resta: \\n{resta}\\n Multiplicación: \\n{multi}\\n División:\\n{div}\")\n"
     ]
    }
   ],
   "source": [
    "# Creé 2 series con números aleatorios\n",
    "serie_uno = Series([3,2,3,4])\n",
    "serie_dos = Series([4,5,4,2])\n",
    "\n",
    "# Realicé las operaciones matemáticas básicas con las series\n",
    "suma = serie_uno + serie_dos\n",
    "resta = serie_uno - serie_dos\n",
    "div = serie_uno / serie_dos\n",
    "multi = serie_uno * serie_dos\n",
    "# Imprimí los resultados\n",
    "print(f\"Suma:\\n{suma}\\n\\ Resta: \\n{resta}\\n Multiplicación: \\n{multi}\\n División:\\n{div}\")\n",
    "\n",
    "\n"
   ]
  },
  {
   "cell_type": "code",
   "execution_count": 734,
   "id": "d04fd492",
   "metadata": {},
   "outputs": [
    {
     "name": "stdout",
     "output_type": "stream",
     "text": [
      "Serie original \n",
      "0    3\n",
      "1    2\n",
      "2    3\n",
      "3    4\n",
      "dtype: int64\n",
      "Número random: 1 \n",
      " Potencia de la serie: \n",
      "0    3\n",
      "1    2\n",
      "2    3\n",
      "3    4\n",
      "dtype: int64\n",
      "Número random: 5 \n",
      " Potencia de la serie: \n",
      "0     243\n",
      "1      32\n",
      "2     243\n",
      "3    1024\n",
      "dtype: int64\n",
      "Número random: 3 \n",
      " Potencia de la serie: \n",
      "0    27\n",
      "1     8\n",
      "2    27\n",
      "3    64\n",
      "dtype: int64\n"
     ]
    }
   ],
   "source": [
    "# Traje la serie uno del indice anterior\n",
    "print(f\"Serie original \\n{serie_uno}\")\n",
    "\n",
    "# Creé un arreglo donde guardaría las potencias de las series\n",
    "mis_potencias = []\n",
    "\n",
    "# Itere 3 veces para crear 3 potencias aleatorias sobre los valores de la serie uno\n",
    "for i in range(3):\n",
    "    numero = random.randint(1,5)\n",
    "    # Potencia la serie uno por un número random cada que se itera pero en una variable diferente para no dañar mi serie\n",
    "    serie = serie_uno ** numero\n",
    "    # Envié cada serie potenciada a la lista mis_potencias junto con el número random que se utilizó para potenciarla\n",
    "    mis_potencias.append((numero,serie))\n",
    "    \n",
    "    # Imprimí la serie potenciada y el número random que se utilizó para potenciarla iterando por los valores de la lista mis_potencias\n",
    "for num, potencias in mis_potencias:\n",
    "    print(f\"Número random: {num} \\n Potencia de la serie: \\n{potencias}\")"
   ]
  },
  {
   "cell_type": "markdown",
   "id": "67fadd6d",
   "metadata": {},
   "source": [
    "### **Actividad 4:** \n",
    "Filtrado con condiciones.\n",
    "* Crea una Series de edades de 10 personas.\n",
    "* Muestra solo a los mayores de 18.\n",
    "* Reemplaza a los menores por \"Menor de edad\"."
   ]
  },
  {
   "cell_type": "code",
   "execution_count": null,
   "id": "c2ef3357",
   "metadata": {},
   "outputs": [
    {
     "name": "stdout",
     "output_type": "stream",
     "text": [
      "Personas mayores de edad: \n",
      " Juan       25\n",
      "Luis       20\n",
      "Carlos     44\n",
      "Marcelo    52\n",
      "Sofía      26\n",
      "dtype: int64\n"
     ]
    }
   ],
   "source": [
    "# Cree una serie de 10 personas con sus edades\n",
    "edades_personas = {\n",
    "    \"Juan\": 25,\n",
    "    \"María\": 15,\n",
    "    \"Pedro\": 12,\n",
    "    \"Ana\": 3,\n",
    "    \"Luis\": 20,\n",
    "    \"Laura\": 4,\n",
    "    \"Carlos\": 44,\n",
    "    \"Marcelo\": 52,\n",
    "    \"Sofía\": 26,\n",
    "    \"Valentina\": 17,\n",
    "}\n",
    "\n",
    "# Convertí el diccionario en una serie\n",
    "edades = Series(edades_personas)\n",
    "# Filtré por los mayores de edad y lo imprimí\n",
    "mayores_de_edad = edades[edades >= 18]\n",
    "print(\"Personas mayores de edad: \\n\",mayores_de_edad)\n",
    "\n"
   ]
  },
  {
   "cell_type": "code",
   "execution_count": null,
   "id": "7236c1fc",
   "metadata": {},
   "outputs": [
    {
     "name": "stdout",
     "output_type": "stream",
     "text": [
      "Edades de las personas: \n",
      " Juan                    25\n",
      "María        Menor de edad\n",
      "Pedro        Menor de edad\n",
      "Ana          Menor de edad\n",
      "Luis                    20\n",
      "Laura        Menor de edad\n",
      "Carlos                  44\n",
      "Marcelo                 52\n",
      "Sofía                   26\n",
      "Valentina    Menor de edad\n",
      "dtype: object\n"
     ]
    }
   ],
   "source": [
    "# Creé una copia de la serie de edades y convertí los valores a tipo object para que sea más flexible pasar de un Int a string\n",
    "copia_edades_personas = edades.copy().astype(object)\n",
    "\n",
    "# Iteré sobre la copia de la serie y reemplacé los valores menores de edad por \"Menor de edad\"\n",
    "for nombre, edad in copia_edades_personas.items():\n",
    "    if edad < 18:\n",
    "        copia_edades_personas[nombre] = \"Menor de edad\"\n",
    "\n",
    "# Imprimí la serie de edades con los valores de las personas menores de edad reemplazados por \"Menor de edad\"\n",
    "print(\"Edades de las personas: \\n\",copia_edades_personas)\n",
    "        "
   ]
  },
  {
   "cell_type": "markdown",
   "id": "8889d0f2",
   "metadata": {},
   "source": [
    "### Actividad 5:\n",
    "Estadísticas básicas.\n",
    "\n",
    "* Crea una Series con las notas de 10 estudiantes.\n",
    "* Calcula la media, mediana, desviación estándar y máximo.\n",
    "* Muestra cuántos estudiantes aprobaron si el mínimo para aprobar es 6.\n",
    "* Ordenar las notas de manera ascendente y descendente. "
   ]
  },
  {
   "cell_type": "code",
   "execution_count": 737,
   "id": "bc0ec844",
   "metadata": {},
   "outputs": [
    {
     "name": "stdout",
     "output_type": "stream",
     "text": [
      "Juan      10\n",
      "Pedro      8\n",
      "María      9\n",
      "Lucía      7\n",
      "Javier     6\n",
      "Ana        7\n",
      "Sofía      9\n",
      "Diego      3\n",
      "Emolio     2\n",
      "Roman      5\n",
      "dtype: int64\n",
      "Nota máxima: 10\n",
      "Promedio de las notas: 6.6\n",
      "La mediana: 7.0\n",
      "Desviación estandar: 2.6331223544175333\n"
     ]
    }
   ],
   "source": [
    "# Creé un diccionario con alumnos y sus respectivas notas\n",
    "notas_estudiantes = {\n",
    "    \"Juan\":10,\n",
    "    \"Pedro\":8,\n",
    "    \"María\":9,\n",
    "    \"Lucía\":7,\n",
    "    \"Javier\":6,\n",
    "    \"Ana\":7,\n",
    "    \"Sofía\":9,\n",
    "    \"Diego\":3,\n",
    "    \"Emolio\": 2,\n",
    "    \"Roman\":5\n",
    "    }\n",
    "\n",
    "#Convertí el diccionario en una serie\n",
    "notas = Series(notas_estudiantes)\n",
    "print(notas)\n",
    "\n",
    "# Obtuve la nota máxima, el promedio, la mediana y la desviación estándar de las notas\n",
    "print(f\"Nota máxima: {notas.max()}\")\n",
    "print(f\"Promedio de las notas: {notas.mean()}\")\n",
    "print(f\"La mediana: {notas.median()}\")\n",
    "print(f\"Desviación estandar: {notas.std()}\")\n",
    "\n",
    "\n"
   ]
  },
  {
   "cell_type": "code",
   "execution_count": 738,
   "id": "89f24985",
   "metadata": {},
   "outputs": [
    {
     "name": "stdout",
     "output_type": "stream",
     "text": [
      "Estudiantes aprobados:\n",
      "Juan      10\n",
      "Pedro      8\n",
      "María      9\n",
      "Lucía      7\n",
      "Javier     6\n",
      "Ana        7\n",
      "Sofía      9\n",
      "dtype: int64, \n",
      "en total 7 estudiantes aprobaron\n"
     ]
    }
   ],
   "source": [
    "# Entre las notas de los alumnos filtré con una condicional por las notas mayores o iguales a 6\n",
    "estudiantes_aprobados = notas[notas >= 6]\n",
    "# Imprimí los estudiantes aprobados y el total de estudiantes que aprobaron\n",
    "print(f'Estudiantes aprobados:\\n{estudiantes_aprobados}, \\nen total {estudiantes_aprobados.count()} estudiantes aprobaron')"
   ]
  },
  {
   "cell_type": "code",
   "execution_count": 739,
   "id": "99220eed",
   "metadata": {},
   "outputs": [
    {
     "name": "stdout",
     "output_type": "stream",
     "text": [
      "Notas en orden ascendente: \n",
      "Emolio     2\n",
      "Diego      3\n",
      "Roman      5\n",
      "Javier     6\n",
      "Lucía      7\n",
      "Ana        7\n",
      "Pedro      8\n",
      "María      9\n",
      "Sofía      9\n",
      "Juan      10\n",
      "dtype: int64\n"
     ]
    }
   ],
   "source": [
    "# Ordené las notas de los estudiantes de forma ascendente y las imprimí\n",
    "notas_ascendente = notas.sort_values(ascending=True)\n",
    "print(f\"Notas en orden ascendente: \\n{notas_ascendente}\")"
   ]
  },
  {
   "cell_type": "code",
   "execution_count": 740,
   "id": "4b0552ba",
   "metadata": {},
   "outputs": [
    {
     "name": "stdout",
     "output_type": "stream",
     "text": [
      "Notas en orden descendente: \n",
      "Juan      10\n",
      "María      9\n",
      "Sofía      9\n",
      "Pedro      8\n",
      "Ana        7\n",
      "Lucía      7\n",
      "Javier     6\n",
      "Roman      5\n",
      "Diego      3\n",
      "Emolio     2\n",
      "dtype: int64\n"
     ]
    }
   ],
   "source": [
    "# Ordené las notas de los estudiantes de forma descendente y las imprimí\n",
    "notas_descendente = notas.sort_values(ascending=False)\n",
    "print(f\"Notas en orden descendente: \\n{notas_descendente}\")"
   ]
  }
 ],
 "metadata": {
  "kernelspec": {
   "display_name": "venv",
   "language": "python",
   "name": "python3"
  },
  "language_info": {
   "codemirror_mode": {
    "name": "ipython",
    "version": 3
   },
   "file_extension": ".py",
   "mimetype": "text/x-python",
   "name": "python",
   "nbconvert_exporter": "python",
   "pygments_lexer": "ipython3",
   "version": "3.13.2"
  }
 },
 "nbformat": 4,
 "nbformat_minor": 5
}
