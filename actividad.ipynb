{
 "cells": [
  {
   "cell_type": "markdown",
   "id": "498731c6",
   "metadata": {},
   "source": [
    "# Actividad - Trabajando con Series de Pandas.\n",
    "## Criterios de evaluación.\n",
    "\n",
    "* Se deben utilizar nombres de variables descriptivos y claros (Utilizar la nomeclatura correspondiente para los nombres de variables).\n",
    "* Comentarios claros y concisos que expliquen el propósito de cada sección del código.\n",
    "* Utilizar mensajes de commit **descriptivos**. (Puedes utilizar la extension CONVENTIONAL COMMIT de VS-CODE). \n",
    "* Entrega en tiempo y forma.\n",
    "* Todo el código desarrollado debe ser subido a un repositorio en GitHub (el nombre del repositorio de seguir la siguiente estructura: actividad_tlp3_nombre_apellido).\n",
    "* Para resolver las actividades se debe insertar casillas de codigo entre cada actividad del cuaderno de Jupyter\n",
    "\n",
    "### ¡Importante!\n",
    "**El incumplimiento de los criterios de evaluación restará puntos en la nota final del práctico!**"
   ]
  },
  {
   "cell_type": "markdown",
   "id": "b361a7b6",
   "metadata": {},
   "source": [
    "### **Actividad 1:** \n",
    "\n",
    "Crear Series desde diferentes estructuras.\n",
    "* Crea una Series con los números del 1 al 5\n",
    "* Crea una Series a partir de un diccionario con nombres de países como claves y sus capitales como valores."
   ]
  },
  {
   "cell_type": "code",
   "execution_count": 2,
   "id": "26009294",
   "metadata": {},
   "outputs": [
    {
     "data": {
      "text/plain": [
       "0    1\n",
       "1    2\n",
       "2    3\n",
       "3    4\n",
       "4    5\n",
       "dtype: int64"
      ]
     },
     "execution_count": 2,
     "metadata": {},
     "output_type": "execute_result"
    }
   ],
   "source": [
    "from pandas import Series\n",
    "import random\n",
    "\n",
    "primer_serie = Series([1,2,3,4,5])\n",
    "primer_serie"
   ]
  },
  {
   "cell_type": "code",
   "execution_count": 9,
   "id": "471adaee",
   "metadata": {},
   "outputs": [
    {
     "name": "stdout",
     "output_type": "stream",
     "text": [
      "Argentina    Buenos Aires\n",
      "Colombia           Bogotá\n",
      "Chile            Santiago\n",
      "Perú                 Lima\n",
      "Venezuela         Caracas\n",
      "Ecuador             Quito\n",
      "Paraguay         Asunción\n",
      "dtype: object\n"
     ]
    }
   ],
   "source": [
    "diccionario = {\n",
    "    'Argentina': 'Buenos Aires',\n",
    "    'Colombia': 'Bogotá',\n",
    "    'Chile': 'Santiago',\n",
    "    'Perú': 'Lima',\n",
    "    'Venezuela': 'Caracas',\n",
    "    'Ecuador': 'Quito',\n",
    "    'Paraguay': 'Asunción',\n",
    "    }\n",
    "\n",
    "serie_diccionario = Series(diccionario)\n",
    "print(serie_diccionario)"
   ]
  },
  {
   "cell_type": "markdown",
   "id": "0c239195",
   "metadata": {},
   "source": [
    "### **Actividad 2:** \n",
    "Acceso y selección de elementos.\n",
    "* Usa una Series con tareas (que haceres cotidianos) de una semana\n",
    "* Accede a diferentes elementos a elección.\n",
    "* Cambia los valores de los dias pares.\n"
   ]
  },
  {
   "cell_type": "code",
   "execution_count": 383,
   "id": "3611d25a",
   "metadata": {},
   "outputs": [
    {
     "name": "stdout",
     "output_type": "stream",
     "text": [
      "Cocinar\n"
     ]
    }
   ],
   "source": [
    "que_haceres = {\n",
    "    \"Sabado\": \"Descansar\",\n",
    "    \"Domingo\": \"Cocinar\",\n",
    "    \"Lunes\": \"Estudiar\",\n",
    "    \"Martes\": \"Limpiar\",\n",
    "    \"Miércoles\": \"Hacer la compra\",\n",
    "    \"Jueves\": \"Hacer ejercicio\",\n",
    "    \"Viernes\": \"Salir\",\n",
    "}\n",
    "\n",
    "series_que_haceres = Series(que_haceres)\n",
    "print(series_que_haceres[\"Domingo\"])\n",
    "\n",
    "    "
   ]
  },
  {
   "cell_type": "code",
   "execution_count": 402,
   "id": "fc33acf3",
   "metadata": {},
   "outputs": [
    {
     "name": "stdout",
     "output_type": "stream",
     "text": [
      "Sabado       Limpiar el baño\n",
      "Domingo              Cocinar\n",
      "Lunes               Chusmear\n",
      "Martes               Limpiar\n",
      "Miércoles           Chusmear\n",
      "Jueves       Hacer ejercicio\n",
      "Viernes          Hacer chipa\n",
      "dtype: object\n"
     ]
    },
    {
     "name": "stderr",
     "output_type": "stream",
     "text": [
      "C:\\Users\\marcelo\\AppData\\Local\\Temp\\ipykernel_30364\\1332860892.py:3: FutureWarning: Series.__setitem__ treating keys as positions is deprecated. In a future version, integer keys will always be treated as labels (consistent with DataFrame behavior). To set a value by position, use `ser.iloc[pos] = value`\n",
      "  series_que_haceres[i] = random.choice([\"Saltar la cuerda\", \"Comprar manzanas\", \"Crear un algoritmo\", \"Chusmear\", \"Limpiar el baño\", \"Hacer chipa\"])\n"
     ]
    }
   ],
   "source": [
    "for i in range(len(series_que_haceres)):\n",
    "    if i % 2==0:\n",
    "        series_que_haceres[i] = random.choice([\"Saltar la cuerda\", \"Comprar manzanas\", \"Crear un algoritmo\", \"Chusmear\", \"Limpiar el baño\", \"Hacer chipa\"])\n",
    "\n",
    "print(series_que_haceres)    \n",
    "       \n"
   ]
  },
  {
   "cell_type": "markdown",
   "id": "70a24b97",
   "metadata": {},
   "source": [
    "### **Actividad 3:**\n",
    "Operaciones aritméticas. \n",
    "* Realiza las operaciones basicas con 2 series cuales quieran.\n",
    "* Eleva los valores de la primer serie a 3 potencias difetentes."
   ]
  },
  {
   "cell_type": "code",
   "execution_count": null,
   "id": "a9c8ebc7",
   "metadata": {},
   "outputs": [],
   "source": []
  },
  {
   "cell_type": "markdown",
   "id": "b8dac397",
   "metadata": {},
   "source": [
    "### **Actividad 4:** \n",
    "Filtrado con condiciones.\n",
    "* Crea una Series de edades de 10 personas.\n",
    "* Muestra solo a los mayores de 18.\n",
    "* Reemplaza a los menores por \"Menor de edad\"."
   ]
  },
  {
   "cell_type": "code",
   "execution_count": null,
   "id": "d04fd492",
   "metadata": {},
   "outputs": [],
   "source": [
    "\n",
    "# todo:"
   ]
  },
  {
   "cell_type": "markdown",
   "id": "8889d0f2",
   "metadata": {},
   "source": [
    "### Actividad 5:\n",
    "Estadísticas básicas.\n",
    "\n",
    "* Crea una Series con las notas de 10 estudiantes.\n",
    "* Calcula la media, mediana, desviación estándar y máximo.\n",
    "* Muestra cuántos estudiantes aprobaron si el mínimo para aprobar es 6.\n",
    "* Ordenar las notas de manera ascendente y descendente. "
   ]
  },
  {
   "cell_type": "code",
   "execution_count": null,
   "id": "bc0ec844",
   "metadata": {},
   "outputs": [],
   "source": [
    "\n",
    "# todo:\n"
   ]
  }
 ],
 "metadata": {
  "kernelspec": {
   "display_name": "venv",
   "language": "python",
   "name": "python3"
  },
  "language_info": {
   "codemirror_mode": {
    "name": "ipython",
    "version": 3
   },
   "file_extension": ".py",
   "mimetype": "text/x-python",
   "name": "python",
   "nbconvert_exporter": "python",
   "pygments_lexer": "ipython3",
   "version": "3.13.2"
  }
 },
 "nbformat": 4,
 "nbformat_minor": 5
}
